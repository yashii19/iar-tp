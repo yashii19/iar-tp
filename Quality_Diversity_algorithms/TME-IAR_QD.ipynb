{
 "cells": [
  {
   "cell_type": "markdown",
   "metadata": {},
   "source": [
    "# TME UE IAR: From Traditional EA to Quality-Diversity algorithms"
   ]
  },
  {
   "cell_type": "markdown",
   "metadata": {},
   "source": [
    "Version du 26 novembre 2022"
   ]
  },
  {
   "cell_type": "markdown",
   "metadata": {},
   "source": [
    "* Etudiant1: SAOUCHA Lyna\n",
    "\n",
    "**Pour faciliter le suivi, merci à chaque membre du binome de soumettre le TME sous son nom.**"
   ]
  },
  {
   "cell_type": "markdown",
   "metadata": {},
   "source": [
    "Cette séance de TME consiste à mettre en oeuvre des méthodes d'apprentissage de type \"direct policy search\" s'appuyant sur des algorithmes évolutionnaires. \n",
    "\n",
    "Ces algorithmes s'appuient sur des opérateurs de recherche stochastiques. Si vous lancez plusieurs fois une même expérience avec une graine aléatoire différente vous obtiendrez des résultats différents. Dans la mesure du possible et de la puissance de calcul que vous avez à disposition et s'il n'a pas été demandé explicitement de ne faire qu'une seule expérience, il est donc souhaitable de répéter les expériences plusieurs fois avant de conclure.\n",
    "\n",
    "Les cellules à compléter sont marquées <à compléter>.\n",
    "\n",
    "Vous prendrez soin de mettre des commentaires dans votre code et, pour chaque question, vous décrirez rapidement le travail réalisé. Vous prendrez soin de ne soumettre que les fichiers nécessaires (merci d'éviter les fichiers de log inutiles et de taille conséquente...)."
   ]
  },
  {
   "cell_type": "markdown",
   "metadata": {},
   "source": [
    "## 1. Introduction\n",
    "\n",
    "### 1.1 Dépendances\n",
    "\n",
    "La seule dépendance nécessaire à ce TP est DEAP que vous pourrez installer de la façon suivante:\n",
    "\n"
   ]
  },
  {
   "cell_type": "code",
   "execution_count": 1,
   "metadata": {},
   "outputs": [
    {
     "name": "stdout",
     "output_type": "stream",
     "text": [
      "Requirement already satisfied: deap in c:\\users\\lyna\\anaconda3\\lib\\site-packages (1.3.1)\n",
      "Requirement already satisfied: numpy in c:\\users\\lyna\\anaconda3\\lib\\site-packages (from deap) (1.18.1)\n"
     ]
    }
   ],
   "source": [
    "!pip install deap"
   ]
  },
  {
   "cell_type": "code",
   "execution_count": 3,
   "metadata": {},
   "outputs": [
    {
     "name": "stdout",
     "output_type": "stream",
     "text": [
      "Collecting plot\n",
      "  Downloading plot-0.6.5-py2.py3-none-any.whl (135 kB)\n",
      "Requirement already satisfied: numpy in c:\\users\\lyna\\anaconda3\\lib\\site-packages (from plot) (1.18.1)\n",
      "Requirement already satisfied: matplotlib in c:\\users\\lyna\\anaconda3\\lib\\site-packages (from plot) (3.1.3)\n",
      "Requirement already satisfied: pyyaml in c:\\users\\lyna\\anaconda3\\lib\\site-packages (from plot) (5.3)\n",
      "Collecting typing\n",
      "  Downloading typing-3.7.4.3.tar.gz (78 kB)\n",
      "Requirement already satisfied: scipy in c:\\users\\lyna\\anaconda3\\lib\\site-packages (from plot) (1.4.1)\n",
      "Requirement already satisfied: kiwisolver>=1.0.1 in c:\\users\\lyna\\anaconda3\\lib\\site-packages (from matplotlib->plot) (1.1.0)\n",
      "Requirement already satisfied: cycler>=0.10 in c:\\users\\lyna\\anaconda3\\lib\\site-packages (from matplotlib->plot) (0.10.0)\n",
      "Requirement already satisfied: python-dateutil>=2.1 in c:\\users\\lyna\\anaconda3\\lib\\site-packages (from matplotlib->plot) (2.8.1)\n",
      "Requirement already satisfied: pyparsing!=2.0.4,!=2.1.2,!=2.1.6,>=2.0.1 in c:\\users\\lyna\\anaconda3\\lib\\site-packages (from matplotlib->plot) (2.4.6)\n",
      "Requirement already satisfied: setuptools in c:\\users\\lyna\\anaconda3\\lib\\site-packages (from kiwisolver>=1.0.1->matplotlib->plot) (45.2.0.post20200210)\n",
      "Requirement already satisfied: six in c:\\users\\lyna\\anaconda3\\lib\\site-packages (from cycler>=0.10->matplotlib->plot) (1.15.0)\n",
      "Building wheels for collected packages: typing\n",
      "  Building wheel for typing (setup.py): started\n",
      "  Building wheel for typing (setup.py): finished with status 'done'\n",
      "  Created wheel for typing: filename=typing-3.7.4.3-py3-none-any.whl size=26312 sha256=77d3ef182c75a90730c07ebae39f08b18bc5d104a0bc5b302026aab66ec1a151\n",
      "  Stored in directory: c:\\users\\lyna\\appdata\\local\\pip\\cache\\wheels\\35\\f3\\15\\01aa6571f0a72ee6ae7b827c1491c37a1f72d686fd22b43b0e\n",
      "Successfully built typing\n",
      "Installing collected packages: typing, plot\n",
      "Successfully installed plot-0.6.5 typing-3.7.4.3\n"
     ]
    }
   ],
   "source": [
    "!pip install plot"
   ]
  },
  {
   "cell_type": "code",
   "execution_count": 2,
   "metadata": {},
   "outputs": [],
   "source": [
    "# Il n'y a rien à faire d'autre que d'exécuter cette cellule, \n",
    "# elle contient des imports qui vous seront utiles\n",
    "\n",
    "# Note: l'import d'un fichier ne se fait qu'une seule fois. Si vous modifiez ce fichier, \n",
    "# il vous faut redémarrer votre kernel si vous voulez prendre en compte les modifications.\n",
    "# vous pouvez éviter cela de la façon suivante: \n",
    "import importlib # une seule fois\n",
    "import plot # le module doit avoir été importé une première fois\n",
    "importlib.reload(plot) # cette ligne permet de charger la dernière version\n",
    "import ea_dps_ka\n",
    "import matplotlib.pyplot as plt\n",
    "\n",
    "# pour que les figures apparaissent directement dans le notebook\n",
    "%matplotlib inline "
   ]
  },
  {
   "cell_type": "markdown",
   "metadata": {},
   "source": [
    "### 1.2 Environnement utilisé pour les expériences\n",
    "\n",
    "Vous allez utiliser un environnement simplifié pour permettre aux calculs d'être suffisamment rapides quelque soit votre environnement de travail. Il s'agit de la simulation d'un bras robotique articulé. Les paramètres explorés par l'algorithme évolutionnaire correspondent à l'angle que fait chaque segment par rapport au segment précédent. Il n'y a donc pas de politique à proprement parler."
   ]
  },
  {
   "cell_type": "code",
   "execution_count": 31,
   "metadata": {},
   "outputs": [
    {
     "name": "stdout",
     "output_type": "stream",
     "text": [
      "Représentation d'un bras à 3 degrés de liberté avec la cible et les obstacles qui seront utilisés dans la suite.\n"
     ]
    },
    {
     "data": {
      "image/png": "[encoded data removed]",
      "text/plain": [
       "<IPython.core.display.Image object>"
      ]
     },
     "execution_count": 31,
     "metadata": {},
     "output_type": "execute_result"
    }
   ],
   "source": [
    "from IPython.display import Image\n",
    "\n",
    "fig = Image(filename=('bras.png'))\n",
    "print(\"Représentation d'un bras à 3 degrés de liberté avec la cible et les obstacles qui seront utilisés dans la suite.\")\n",
    "fig"
   ]
  },
  {
   "cell_type": "markdown",
   "metadata": {},
   "source": [
    "L'objectif des expériences est de déterminer les configurations du bras permettant d'atteindre diverses positions de l'espace avec l'effecteur terminal. Ces configurations peuvent être déterminées par le calcul, mais elles seront déterminées ici par l'algorithme évolutionnaire. Des obstacles ont été ajoutés dans l'environnement. La première partie du TP vise à atteindre la cible en rouge (avec un bras qui disposera de plus de segment que le bras représenté ici). La deuxième partie du TP vise à trouver des configurations du bras permettant d'atteindre l'ensemble des positions atteignables."
   ]
  },
  {
   "cell_type": "markdown",
   "metadata": {},
   "source": [
    "## 2 Comparaison des expériences de Fit, NS et Fit+NS\n",
    "\n",
    "Cette première partie vise à vous faire prendre en main 3 variantes d'apprentissage direct dans l'espace des \"politiques\" (le terme de \"politique\" est ici un peu abusif, mais nous l'utiliserons tout de même dans la suite):\n",
    "- FIT: algorithme élitiste guidé par une fitness globale\n",
    "- NS: algorithme de recherche de nouveauté (novelty search)\n",
    "- FIT+NS: algorithme combinant FIT et NS avec une approche multi-objectif \n",
    "\n",
    "Vous regarderez attentivement le fichier ea_dps_ka.py et vous le compléterez pour afficher un message chaque fois qu'une politique améliore la fitness globale. A cette occasion, vous sauvegarderez la configuration de cet individu pour pouvoir la tracer ensuite dans les questions suivantes de ce notebook."
   ]
  },
  {
   "cell_type": "markdown",
   "metadata": {},
   "source": [
    "### 2.1 Variante Fit\n",
    "\n",
    "Lancez quelques expériences avec la variante FIT. Tracez l'évolution de la fitness (opposé de la distance à la cible à maximiser) en fonction des générations et donnez les statistiques des résultats obtenus (combien d'expériences atteignent la cible, en combien de génération en moyenne). La cible sera considérée comme atteinte si l'effecteur terminal est à une distance de 0.5 ou moins de celle-ci. Vous tracerez également les configurations intermédiares du bras correspondant à des améliorations de la fitness (vous en tracerez une dizaime maximum pour ne pas surcharger le notebook)."
   ]
  },
  {
   "cell_type": "code",
   "execution_count": 1,
   "metadata": {},
   "outputs": [
    {
     "ename": "NameError",
     "evalue": "name 'importlib' is not defined",
     "output_type": "error",
     "traceback": [
      "\u001b[1;31m---------------------------------------------------------------------------\u001b[0m",
      "\u001b[1;31mNameError\u001b[0m                                 Traceback (most recent call last)",
      "\u001b[1;32m<ipython-input-1-d6ba029c443b>\u001b[0m in \u001b[0;36m<module>\u001b[1;34m\u001b[0m\n\u001b[0;32m      1\u001b[0m \u001b[1;31m# <à compléter>\u001b[0m\u001b[1;33m\u001b[0m\u001b[1;33m\u001b[0m\u001b[1;33m\u001b[0m\u001b[0m\n\u001b[1;32m----> 2\u001b[1;33m \u001b[0mimportlib\u001b[0m\u001b[1;33m.\u001b[0m\u001b[0mreload\u001b[0m\u001b[1;33m(\u001b[0m\u001b[0mea_dps_ka\u001b[0m\u001b[1;33m)\u001b[0m\u001b[1;33m\u001b[0m\u001b[1;33m\u001b[0m\u001b[0m\n\u001b[0m\u001b[0;32m      3\u001b[0m \u001b[1;33m\u001b[0m\u001b[0m\n\u001b[0;32m      4\u001b[0m \u001b[1;33m\u001b[0m\u001b[0m\n\u001b[0;32m      5\u001b[0m \u001b[1;31m# décrivez en quelques mots ce que vous avez fait, tracez les courbes d'évolution de la fitness,\u001b[0m\u001b[1;33m\u001b[0m\u001b[1;33m\u001b[0m\u001b[1;33m\u001b[0m\u001b[0m\n",
      "\u001b[1;31mNameError\u001b[0m: name 'importlib' is not defined"
     ]
    }
   ],
   "source": [
    "\n",
    "# <à compléter>\n",
    "importlib.reload(ea_dps_ka)\n",
    "\n",
    "\n",
    "# décrivez en quelques mots ce que vous avez fait, tracez les courbes d'évolution de la fitness, \n",
    "# indiquez les statistiques des résultats obtenus, les configurations intermédiaires et ajoutez un bref commentaire\n"
   ]
  },
  {
   "cell_type": "markdown",
   "metadata": {},
   "source": [
    "### 2.2 Variante NS\n",
    "\n",
    "Mêmes questions avec la variante NS."
   ]
  },
  {
   "cell_type": "code",
   "execution_count": 56,
   "metadata": {},
   "outputs": [],
   "source": [
    "# <à compléter>\n",
    "\n",
    "# décrivez en quelques mots ce que vous avez fait, tracez les courbes d'évolution de la fitness, \n",
    "# indiquez les statistiques des résultats obtenus, les configurations intermédiaires et ajoutez un bref commentaire\n"
   ]
  },
  {
   "cell_type": "markdown",
   "metadata": {},
   "source": [
    "### 2.3 Variante FIT+NS\n",
    "\n",
    "Mêmes questions avec la variante qui utilise 2 objectifs: Fitness et Novelty (variante FIT+NS). "
   ]
  },
  {
   "cell_type": "code",
   "execution_count": 7,
   "metadata": {},
   "outputs": [],
   "source": [
    "# <à compléter>\n",
    "\n",
    "# décrivez en quelques mots ce que vous avez fait, tracez les courbes d'évolution de la fitness, \n",
    "# indiquez les statistiques des résultats obtenus, les configurations intermédiaires et ajoutez un bref commentaire\n"
   ]
  },
  {
   "cell_type": "markdown",
   "metadata": {},
   "source": [
    "## 3 Diversité des comportements générés\n",
    "\n"
   ]
  },
  {
   "cell_type": "markdown",
   "metadata": {},
   "source": [
    "\n",
    "La position finale de chaque point généré est enregistrée dans le fichier bd.log. Tracez ces différents points sur une même figure pour une experience de NS, de FIT et de FIT+NS. Qu'en déduisez-vous sur la capacité d'exploration de chacun de ces algorithmes ? "
   ]
  },
  {
   "cell_type": "code",
   "execution_count": 58,
   "metadata": {},
   "outputs": [],
   "source": [
    "# <à compléter>\n",
    "\n",
    "# décrivez en quelques mots ce que vous avez fait et tracez les figures demandées.\n",
    "        "
   ]
  },
  {
   "cell_type": "markdown",
   "metadata": {},
   "source": [
    "Tracez sur des figures séparées les points générés pour plusieurs générations successives de NS, FIT et FIT+NS (par exemple 90, 91, 92). Que constatez vous ? "
   ]
  },
  {
   "cell_type": "code",
   "execution_count": 59,
   "metadata": {},
   "outputs": [],
   "source": [
    "# <à compléter>\n",
    "\n",
    "# décrivez en quelques mots ce que vous avez fait et tracez les figures demandées."
   ]
  },
  {
   "cell_type": "markdown",
   "metadata": {},
   "source": [
    "## 4 Ajout d'une qualité locale\n",
    "\n",
    "L'ensemble des solutions générées peut être utilisé pour atteindre n'importe lequel des comportements atteignables, mais l'inconvénient de cette approche est que la notion de qualité est totalement absente du processus, or parmi les solutions générant un comportement donné, toutes ne se valent pas. Certaines sont plus intéressantes que d'autres parce qu'elle consomment moins d'énergie, qu'elles ne créent pas de collision, qu'elles sont plus stables, etc.\n",
    "\n",
    "Une solution pour prendre en compte un tel critère de qualité consiste à utiliser, à côté de l'objectif de nouveauté, un objectif de performance. Définir cet objectif comme une pression globale est contreproductif, car pour éviter des collisions ou minimiser la consommation d'énergie, il suffit de ne pas bouger... Pour rendre cette pression plus intéressante, il faut en faire un objectif non pas global, mais local.\n",
    "\n",
    "Pour cela, on peut suivre l'approche proposée par Lehman et Stanley [1]: on compare la fitness de l'individu considéré avec celle de ses plus proches voisins (qui sont déjà déterminés pour le calcul de nouveauté). On ajoute alors un objectif de compétition locale qui vaut le nombre de voisins dont la fitness est inférieure.\n",
    "\n",
    "Complétez le code de novelty_search.py pour que la fonction de calcul de nouveauté renvoie la nouveauté et l'objectif de compétition locale. Pour cela, vous devrez garder dans l'archive la liste des fitness des points ajoutés.\n",
    "\n",
    "Utilisez cette nouvelle version pour générer des politiques qui permettent d'atteindre les différentes positions de l'espace en minimisant un tel critère, par exemple l'écart-type sur les angles du bras.\n",
    "\n",
    "Vous créerez une nouvelle variante et reprendrez le tracé de l'espace exploré en indiquant par une couleur la qualité de chaque point (\"heat-map\"). Vous comparerez, visuellement, les résultats des différentes variantes.\n",
    "\n",
    "* [1] Lehman, J., & Stanley, K. O. (2011). Evolving a diversity of virtual creatures through novelty search and local competition. In Proceedings of GECCO"
   ]
  },
  {
   "cell_type": "code",
   "execution_count": 8,
   "metadata": {},
   "outputs": [],
   "source": [
    "# <à compléter>\n",
    "\n",
    "# indiquez rapidement ce que vous avez fait, puis donnez les tracés des espaces explorés colorés \n",
    "# par la qualité locale. Vous donnerez un commentaire rapide de ces résultats."
   ]
  },
  {
   "cell_type": "markdown",
   "metadata": {},
   "source": [
    "## 5 \"Illuminer\" l'espace exploré\n",
    "\n",
    "### 5.1 Quantifier l'espace comportemental exploré"
   ]
  },
  {
   "cell_type": "markdown",
   "metadata": {},
   "source": [
    "Définissez une grille dans l'espace comportemental qui va vous permettre de mesurer l'espace exploré. Découpez l'espace en cases (vous ignorerez les murs pour simplifier) et écrivez une fonction permettant de placer un individu dans la case correspondant à son descripteur comportemental une fois qu'il a été évalué. Il n'y aura qu'un seul individu par case. Lorsque vous tentez d'ajouter un individu dans une case, si elle est déjà remplie, le nouvel individu remplacera l'ancien si sa fitness est plus élevée. \n",
    "\n",
    "Cette grille est (pour l'instant) indépendante de l'algorithme d'apprentissage. Elle vise simplement à mesurer la capacité de ce dernier à explorer cet espace et à retrouver facilement, si besoin, une politique efficace permettant d'atteindre un comportement donné.\n",
    "\n",
    "Vous mesurerez la couverture de votre exploration (pourcentage de cellules explorées). Utilisez une grille de 100x100 cases et déterminez la couverture pour les trois variantes: FIT, NS, FIT+NS et NSLC (vous pourrez vous contenter d'une seule expérience). \n"
   ]
  },
  {
   "cell_type": "code",
   "execution_count": 10,
   "metadata": {},
   "outputs": [],
   "source": [
    "# <à compléter>\n",
    "\n",
    "# indiquez rapidement ce que vous avez fait et les résultats trouvés."
   ]
  },
  {
   "cell_type": "markdown",
   "metadata": {},
   "source": [
    "### 5.2 MAP-Elites\n",
    "\n",
    "#### 5.2.1 Implémentation de MAP-Elites\n",
    "\n",
    "La grille définie à la question précédente permet de définir un algorithme très simple: MAP-Elites [1]. Dans cet algorithme, la sélection s'appuie sur la grille. La génération d'un nouvel individu consiste à tirer aléatoirement un (si mutation uniquement) ou deux individus (si croisement) dans la grille puis à appliquer l'opérateur génétique de mutation ou de croisement. Après évaluation, on tente d'ajouter cet individu dans la grille. Si la case correspondante est vide, on l'ajoute, sinon, on le compare à l'individu déjà présent et on le remplace si la fitness est améliorée.\n",
    "\n",
    "Utilisez cet algorithme sur la tâche précédente et affichez les résultats: évolution de la couverture et grille finale obtenue.\n",
    "\n",
    "\n",
    "\n",
    "* [1] Mouret, J. B., & Clune, J. (2015). Illuminating search spaces by mapping elites. arXiv preprint arXiv:1504.04909"
   ]
  },
  {
   "cell_type": "code",
   "execution_count": 4,
   "metadata": {},
   "outputs": [],
   "source": [
    "# <à compléter>\n",
    "\n",
    "# indiquez ici les résultats trouvés"
   ]
  },
  {
   "cell_type": "markdown",
   "metadata": {},
   "source": [
    "#### 5.2.2 OPTION: Variantes de MAP-Elites\n",
    "\n",
    "MAP-Elites peut aussi être amélioré avec des stratégies de choix des parents qui ne sont plus uniformes sur toute la grille, mais biaisées pour favoriser les cellules isolées ou les individus dont les descendants ont réussi à remplir des cellules (score de \"curiosité\" [1]). Testez cette variante sur la tâche précédente et observez l'évolution de la couverture ainsi que la grille finale obtenue.\n",
    "\n",
    "* [1] Cully, A., & Demiris, Y. (2017). Quality and diversity optimization: A unifying modular framework. IEEE Transactions on Evolutionary Computation, 22(2), 245-259."
   ]
  },
  {
   "cell_type": "code",
   "execution_count": 4,
   "metadata": {},
   "outputs": [],
   "source": [
    "# <à compléter>\n",
    "\n",
    "# indiquez ici les résultats trouvés"
   ]
  }
 ],
 "metadata": {
  "kernelspec": {
   "display_name": "Python 3",
   "language": "python",
   "name": "python3"
  },
  "language_info": {
   "codemirror_mode": {
    "name": "ipython",
    "version": 3
   },
   "file_extension": ".py",
   "mimetype": "text/x-python",
   "name": "python",
   "nbconvert_exporter": "python",
   "pygments_lexer": "ipython3",
   "version": "3.7.6"
  },
  "vscode": {
   "interpreter": {
    "hash": "1a1af0ee75eeea9e2e1ee996c87e7a2b11a0bebd85af04bb136d915cefc0abce"
   }
  }
 },
 "nbformat": 4,
 "nbformat_minor": 2
}
